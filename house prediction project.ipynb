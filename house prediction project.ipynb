{
 "cells": [
  {
   "cell_type": "code",
   "execution_count": null,
   "id": "73a623ae",
   "metadata": {},
   "outputs": [],
   "source": [
    "import pandas as pd \n",
    "import numpy as np\n",
    "import time \n",
    "import ast\n",
    "import seaborn as sns \n",
    "import matplotlib as plt\n",
    "%matplotlib inline\n",
    "\n",
    "pd.set_option('display.max_rows', 5000) \n",
    "pd.set_option('display.max_columns', 5000)"
   ]
  },
  {
   "cell_type": "code",
   "execution_count": null,
   "id": "11311e82",
   "metadata": {},
   "outputs": [],
   "source": [
    "df=pd.read_csv(\"housing.csv\")"
   ]
  },
  {
   "cell_type": "code",
   "execution_count": null,
   "id": "cb1540f1",
   "metadata": {},
   "outputs": [],
   "source": [
    "df.info()"
   ]
  },
  {
   "cell_type": "code",
   "execution_count": null,
   "id": "b14a2bd6",
   "metadata": {},
   "outputs": [],
   "source": [
    "df.head()"
   ]
  },
  {
   "cell_type": "code",
   "execution_count": null,
   "id": "8cae96da",
   "metadata": {},
   "outputs": [],
   "source": [
    "df.isna().sum()"
   ]
  },
  {
   "cell_type": "code",
   "execution_count": null,
   "id": "d2ac9f00",
   "metadata": {},
   "outputs": [],
   "source": [
    "df.total_bedrooms.value_counts(dropna= False)"
   ]
  },
  {
   "cell_type": "code",
   "execution_count": null,
   "id": "79974301",
   "metadata": {},
   "outputs": [],
   "source": [
    "df[df.isna()==True].count()"
   ]
  },
  {
   "cell_type": "code",
   "execution_count": null,
   "id": "8db8677e",
   "metadata": {},
   "outputs": [],
   "source": [
    "df['total_bedrooms'].fillna(df['total_bedrooms'].median())"
   ]
  },
  {
   "cell_type": "code",
   "execution_count": null,
   "id": "9236191b",
   "metadata": {},
   "outputs": [],
   "source": [
    "df.total_bedrooms.value_counts (dropna= False)"
   ]
  },
  {
   "cell_type": "code",
   "execution_count": null,
   "id": "27af468c",
   "metadata": {},
   "outputs": [],
   "source": [
    "df[df.isna() ==True].count()"
   ]
  },
  {
   "cell_type": "code",
   "execution_count": null,
   "id": "cadf3338",
   "metadata": {},
   "outputs": [],
   "source": [
    "df['total_bedrooms'].fillna (df['total_bedrooms'].median())"
   ]
  },
  {
   "cell_type": "code",
   "execution_count": null,
   "id": "fd4253a1",
   "metadata": {},
   "outputs": [],
   "source": [
    "df[df.isna() ==True].count()"
   ]
  },
  {
   "cell_type": "code",
   "execution_count": null,
   "id": "0950ee5a",
   "metadata": {},
   "outputs": [],
   "source": [
    "#plt.figure(figsize=(10, 12))\n",
    "\n",
    "#g=sns.pairplot(df.loc[:,df.columns != 'ocean_proximity'], kind='bar') #g.fig.set_size_inches (30, 30)"
   ]
  },
  {
   "cell_type": "code",
   "execution_count": null,
   "id": "c9c9c91c",
   "metadata": {},
   "outputs": [],
   "source": [
    "df.hist(bins=30, figsize=(20,20))"
   ]
  },
  {
   "cell_type": "code",
   "execution_count": null,
   "id": "1d58554a",
   "metadata": {},
   "outputs": [],
   "source": [
    "df['rooms_per_household'] = df['total_rooms'].div(df['households'])\n",
    "df['population_per_household']=df['population'].div(df['households'])\n",
    "df['bedrooms_per_household'] = df['total_bedrooms'].div(df['households'])\n",
    "\n",
    "#List (df.columns)"
   ]
  },
  {
   "cell_type": "code",
   "execution_count": null,
   "id": "5f7ba557",
   "metadata": {},
   "outputs": [],
   "source": [
    "print([(i,df['median_house_value'].corr(df[i])) for i in list (df.columns) if i != 'ocean_proximity']) #population Lowering the prices while income has 0.6 correlation which is increasing the prices"
   ]
  },
  {
   "cell_type": "code",
   "execution_count": null,
   "id": "9bbc8d22",
   "metadata": {},
   "outputs": [],
   "source": [
    "df[['median_income', 'median_house_value']]"
   ]
  },
  {
   "cell_type": "code",
   "execution_count": null,
   "id": "c9ff8bf6",
   "metadata": {},
   "outputs": [],
   "source": [
    "plt.figure.Figure(figsize=(20,20)) \n",
    "sns.jointplot(data=df,x='median_income',y='median_house_value', kind= \"reg\", height=6.27, marginal_ticks=False, marker=\"o\")\n"
   ]
  },
  {
   "cell_type": "code",
   "execution_count": null,
   "id": "c1d852c1",
   "metadata": {},
   "outputs": [],
   "source": [
    "import matplotlib.image as mpimg\n",
    "california_img = mpimg.imread(\"california.png\")"
   ]
  },
  {
   "cell_type": "code",
   "execution_count": null,
   "id": "1574ad3d",
   "metadata": {},
   "outputs": [],
   "source": [
    "import matplotlib.pyplot as plt\n",
    "\n",
    "df.plot(kind=\"scatter\", x=\"longitude\", y=\"latitude\",\n",
    "                       s=df.population/100, label=\"Population\", figsize = (15, 10),\n",
    "                       c=\"median_house_value\", cmap=\"coolwarm\",\n",
    "                       colorbar=True, alpha=0.4, fontsize = 20, sharex = False)\n",
    "                      \n",
    "plt.imshow(california_img, extent=[-124.55, -113.80, 32.45, 42.05], alpha=0.5,\n",
    "           cmap=plt.get_cmap(\"jet\"))\n",
    "\n",
    "plt.ylabel(\"Latitude\", fontsize=14)\n",
    "plt.xlabel(\"Longitude\", fontsize=14)\n",
    "plt.title(\"House Prices in California\", fontsize = 20)\n",
    "plt.legend(fontsize=16)\n",
    "plt.show()"
   ]
  },
  {
   "cell_type": "code",
   "execution_count": null,
   "id": "84471067",
   "metadata": {},
   "outputs": [],
   "source": [
    "a25=np.percentile(df['median_income'], 25) \n",
    "a50=np.percentile (df['median_income'],50)\n",
    "a75=np.percentile (df['median_income'], 75)\n",
    "a90=np.percentile (df['median_income'],90)\n",
    "a = (df['median_income'] <= a25)\n",
    "b = (df['median_income']> a25) & (df['median_income'] <= a50) \n",
    "c = (df['median_income'] > a50) & (df['median_income'] <= a75)\n",
    "d=(df['median_income'] > a75) & (df['median_income'] <= a90)\n",
    "e =(df['median_income'] > a90)\n",
    "\n",
    "conditions =[a,b,c,d,e] \n",
    "choices= [\"low\", \"Below Average\", \"Above Average\", \"High\", \"Very High\"]\n",
    "\n",
    "df['income_cat']=np.select(conditions, choices, default=np.nan)"
   ]
  },
  {
   "cell_type": "code",
   "execution_count": null,
   "id": "08dde229",
   "metadata": {},
   "outputs": [],
   "source": [
    "#pd.qcut() alternative to map\n",
    "\n",
    "#sns.countplot(data=df,x='ocean_proximity', hue='median_income')\n",
    "\n",
    "plt.figure(figsize=(15,15))\n",
    "\n",
    "sns.countplot(data=df, x = \"income_cat\", hue=\"ocean_proximity\")"
   ]
  },
  {
   "cell_type": "code",
   "execution_count": null,
   "id": "6855e553",
   "metadata": {},
   "outputs": [],
   "source": [
    "plt.figure(figsize=(15,15))\n",
    "\n",
    "sns.barplot(data=df, x='income_cat', y='median_house_value')"
   ]
  },
  {
   "cell_type": "code",
   "execution_count": null,
   "id": "1aad47a7",
   "metadata": {},
   "outputs": [],
   "source": [
    "plt.figure(figsize= (15,15))\n",
    "\n",
    "sns.barplot(data=df, x='ocean_proximity',y='median_house_value')"
   ]
  },
  {
   "cell_type": "code",
   "execution_count": null,
   "id": "f3c32c95",
   "metadata": {},
   "outputs": [],
   "source": [
    "sns.heatmap(data=df.corr(), center=True)"
   ]
  },
  {
   "cell_type": "code",
   "execution_count": null,
   "id": "a980e34a",
   "metadata": {},
   "outputs": [],
   "source": [
    "df.columns"
   ]
  },
  {
   "cell_type": "code",
   "execution_count": null,
   "id": "6896f88b",
   "metadata": {},
   "outputs": [],
   "source": [
    "from sklearn.model_selection import train_test_split \n",
    "from sklearn.linear_model import LinearRegression\n",
    "from sklearn.metrics import accuracy_score"
   ]
  },
  {
   "cell_type": "code",
   "execution_count": null,
   "id": "7c1bdc55",
   "metadata": {},
   "outputs": [],
   "source": [
    "df=pd.get_dummies(df, columns=['ocean_proximity'])"
   ]
  },
  {
   "cell_type": "code",
   "execution_count": null,
   "id": "35ec4353",
   "metadata": {},
   "outputs": [],
   "source": [
    "df.rename(columns={\"ocean_proximity_<1H OCEAN\": 'ocean_proximity less than 1H OCEAN'}, inplace=True)"
   ]
  },
  {
   "cell_type": "code",
   "execution_count": null,
   "id": "31038424",
   "metadata": {},
   "outputs": [],
   "source": [
    "df.columns"
   ]
  },
  {
   "cell_type": "code",
   "execution_count": null,
   "id": "e90e6936",
   "metadata": {},
   "outputs": [],
   "source": [
    "X=df[['longitude', 'latitude', 'housing_median_age', 'total_rooms',\n",
    "       'total_bedrooms', 'population', 'households', 'median_income',\n",
    "        'rooms_per_household', 'population_per_household',\n",
    "       'bedrooms_per_household', \n",
    "       'ocean_proximity less than 1H OCEAN', 'ocean_proximity_INLAND',\n",
    "       'ocean_proximity_ISLAND', 'ocean_proximity_NEAR BAY',\n",
    "       'ocean_proximity_NEAR OCEAN']] \n",
    "y=df['median_house_value']"
   ]
  },
  {
   "cell_type": "code",
   "execution_count": null,
   "id": "a7e5b4cc",
   "metadata": {},
   "outputs": [],
   "source": [
    "X_train, X_test, y_train, y_test = train_test_split(X, y, test_size=0.33, random_state=42)"
   ]
  },
  {
   "cell_type": "code",
   "execution_count": null,
   "id": "0682cd5a",
   "metadata": {},
   "outputs": [],
   "source": [
    "X_train[X_train.isna() ==True].count()"
   ]
  },
  {
   "cell_type": "code",
   "execution_count": null,
   "id": "2f6a6074",
   "metadata": {},
   "outputs": [],
   "source": [
    "df = df.reset_index()"
   ]
  },
  {
   "cell_type": "code",
   "execution_count": null,
   "id": "8db95133",
   "metadata": {},
   "outputs": [],
   "source": [
    "model=LinearRegression()"
   ]
  },
  {
   "cell_type": "code",
   "execution_count": null,
   "id": "bd50798c",
   "metadata": {},
   "outputs": [],
   "source": [
    "model.fit(X_train,y_train)"
   ]
  },
  {
   "cell_type": "code",
   "execution_count": null,
   "id": "9a964c26",
   "metadata": {},
   "outputs": [],
   "source": [
    "X_test = np.nan_to_num(X_test)"
   ]
  },
  {
   "cell_type": "code",
   "execution_count": null,
   "id": "a08b2436",
   "metadata": {},
   "outputs": [],
   "source": [
    "pred=model.predict(X_test)"
   ]
  },
  {
   "cell_type": "code",
   "execution_count": null,
   "id": "f592ad83",
   "metadata": {
    "scrolled": true
   },
   "outputs": [],
   "source": [
    "y_test = np.nan_to_num(y_test)"
   ]
  },
  {
   "cell_type": "code",
   "execution_count": null,
   "id": "ed5ce34c",
   "metadata": {},
   "outputs": [],
   "source": [
    "from sklearn.metrics import classification_report, accuracy_score, mean_absolute_error,mean_squared_error\n",
    "\n",
    "print(mean_absolute_error(y_test, pred))\n",
    "\n",
    "print(np.sqrt(mean_squared_error(y_test, pred)))"
   ]
  },
  {
   "cell_type": "code",
   "execution_count": null,
   "id": "e639b1c8",
   "metadata": {},
   "outputs": [],
   "source": [
    "from sklearn.ensemble import RandomForestRegressor"
   ]
  },
  {
   "cell_type": "code",
   "execution_count": null,
   "id": "c62f4485",
   "metadata": {},
   "outputs": [],
   "source": [
    "rfg = RandomForestRegressor(random_state=42)"
   ]
  },
  {
   "cell_type": "code",
   "execution_count": null,
   "id": "0412df20",
   "metadata": {},
   "outputs": [],
   "source": [
    "rfg.get_params().keys()"
   ]
  },
  {
   "cell_type": "code",
   "execution_count": null,
   "id": "00de1d98",
   "metadata": {},
   "outputs": [],
   "source": [
    "from sklearn.model_selection import RandomizedSearchCV, GridSearchCV"
   ]
  },
  {
   "cell_type": "code",
   "execution_count": null,
   "id": "850f9f7a",
   "metadata": {},
   "outputs": [],
   "source": [
    "n_estimators = [int(x) for x in np.arange(200, 1000, 50)]\n",
    "max_features = ['auto', 'sqrt']\n",
    "max_depth = [int(x) for x in np.arange(10, 100,5)]\n",
    "max_depth.append(None)\n",
    "min_samples_split = [2, 5, 10]\n",
    "min_samples_leaf = [1, 2, 4]\n",
    "bootstrap = [True, False]\n",
    "random_grid = {'n_estimators': n_estimators,\n",
    "               'max_features': max_features,\n",
    "               'max_depth': max_depth,\n",
    "               'min_samples_split': min_samples_split,\n",
    "               'min_samples_leaf': min_samples_leaf,\n",
    "               'bootstrap': bootstrap}"
   ]
  },
  {
   "cell_type": "code",
   "execution_count": null,
   "id": "11252bfd",
   "metadata": {},
   "outputs": [],
   "source": [
    "random_grid"
   ]
  },
  {
   "cell_type": "code",
   "execution_count": null,
   "id": "13a25afc",
   "metadata": {},
   "outputs": [],
   "source": [
    "randomisedsearchcv =RandomizedSearchCV(estimator=rfg,param_distributions=random_grid,\n",
    "                                      n_iter=100,verbose=3, cv=2, random_state=100,n_jobs=-1)"
   ]
  },
  {
   "cell_type": "code",
   "execution_count": null,
   "id": "14a2b685",
   "metadata": {
    "scrolled": true
   },
   "outputs": [],
   "source": [
    "\n",
    "try: \n",
    "     randomisedsearchcv.fit(X_train,y_train) \n",
    "except KeyError as Key_error: \n",
    "    print(Key_error)"
   ]
  },
  {
   "cell_type": "code",
   "execution_count": null,
   "id": "c9811862",
   "metadata": {},
   "outputs": [],
   "source": [
    "randomisedsearchcv.best_params_"
   ]
  },
  {
   "cell_type": "code",
   "execution_count": null,
   "id": "007a6e3e",
   "metadata": {},
   "outputs": [],
   "source": [
    "randomisedsearchcv.best_params_['min_samples_leaf']"
   ]
  },
  {
   "cell_type": "code",
   "execution_count": null,
   "id": "6c1b8b82",
   "metadata": {},
   "outputs": [],
   "source": [
    "param_grid = {\n",
    "              'max_depth': [randomisedsearchcv.best_params_['max_depth']], \n",
    "              'max_features': [randomisedsearchcv.best_params_['max_features']],\n",
    "              'min_samples_leaf': [randomisedsearchcv.best_params_['min_samples_leaf'], \n",
    "                                   randomisedsearchcv.best_params_['min_samples_leaf']+2, \n",
    "                                   randomisedsearchcv.best_params_['min_samples_leaf']+1], \n",
    "              'min_samples_split': [randomisedsearchcv.best_params_['min_samples_split'],\n",
    "                                    randomisedsearchcv.best_params_['min_samples_split']+1,\n",
    "                                   randomisedsearchcv.best_params_['min_samples_split']-1],\n",
    "              'n_estimators': [randomisedsearchcv.best_params_['n_estimators']+100, \n",
    "                               randomisedsearchcv.best_params_['n_estimators']-100,\n",
    "                               randomisedsearchcv.best_params_['n_estimators']]\n",
    "                    }"
   ]
  },
  {
   "cell_type": "code",
   "execution_count": null,
   "id": "07526388",
   "metadata": {},
   "outputs": [],
   "source": [
    "param_grid"
   ]
  },
  {
   "cell_type": "code",
   "execution_count": null,
   "id": "f5c0e40a",
   "metadata": {},
   "outputs": [],
   "source": [
    "gridsearch=GridSearchCV(estimator=rfg, param_grid=param_grid, cv=2,n_jobs=1, verbose=2)"
   ]
  },
  {
   "cell_type": "code",
   "execution_count": null,
   "id": "dbfa2621",
   "metadata": {},
   "outputs": [],
   "source": [
    "gridsearch.fit(X_train,y_train)"
   ]
  },
  {
   "cell_type": "code",
   "execution_count": null,
   "id": "eff5a63a",
   "metadata": {},
   "outputs": [],
   "source": [
    "best_grid=gridsearch.best_estimator_"
   ]
  },
  {
   "cell_type": "code",
   "execution_count": null,
   "id": "5d3e4919",
   "metadata": {},
   "outputs": [],
   "source": [
    "best_grid"
   ]
  },
  {
   "cell_type": "code",
   "execution_count": null,
   "id": "aa31d718",
   "metadata": {},
   "outputs": [],
   "source": [
    "y_predict=best_grid.predict(X_test)"
   ]
  },
  {
   "cell_type": "code",
   "execution_count": null,
   "id": "9f42223b",
   "metadata": {},
   "outputs": [],
   "source": [
    "finaldf=pd.DataFrame(data={\"Prediction\": y_predict, \"y_test\":y_test})"
   ]
  },
  {
   "cell_type": "code",
   "execution_count": null,
   "id": "04e3a740",
   "metadata": {},
   "outputs": [],
   "source": [
    "print(np.sqrt(mean_squared_error(y_test,y_predict)))"
   ]
  },
  {
   "cell_type": "code",
   "execution_count": null,
   "id": "ea9c416f",
   "metadata": {},
   "outputs": [],
   "source": [
    "finaldf"
   ]
  }
 ],
 "metadata": {
  "kernelspec": {
   "display_name": "Python 3",
   "language": "python",
   "name": "python3"
  },
  "language_info": {
   "codemirror_mode": {
    "name": "ipython",
    "version": 3
   },
   "file_extension": ".py",
   "mimetype": "text/x-python",
   "name": "python",
   "nbconvert_exporter": "python",
   "pygments_lexer": "ipython3",
   "version": "3.8.8"
  }
 },
 "nbformat": 4,
 "nbformat_minor": 5
}
